{
  "nbformat": 4,
  "nbformat_minor": 0,
  "metadata": {
    "colab": {
      "provenance": [],
      "authorship_tag": "ABX9TyPVeYQE9PVlTS3egYVfcOnK",
      "include_colab_link": true
    },
    "kernelspec": {
      "name": "python3",
      "display_name": "Python 3"
    },
    "language_info": {
      "name": "python"
    }
  },
  "cells": [
    {
      "cell_type": "markdown",
      "metadata": {
        "id": "view-in-github",
        "colab_type": "text"
      },
      "source": [
        "<a href=\"https://colab.research.google.com/github/msteknoadam/mss-dl-challange/blob/master/MSS_DL_Challange.ipynb\" target=\"_parent\"><img src=\"https://colab.research.google.com/assets/colab-badge.svg\" alt=\"Open In Colab\"/></a>"
      ]
    },
    {
      "cell_type": "code",
      "source": [
        "!wget https://github.com/msteknoadam/mss-dl-challange/raw/master/mss-deep-learning-challenge_dataset.tar.gz"
      ],
      "metadata": {
        "id": "YQ40tH4gOzvi"
      },
      "execution_count": null,
      "outputs": []
    },
    {
      "cell_type": "code",
      "source": [
        "import tarfile\n",
        "  \n",
        "# open file\n",
        "file = tarfile.open('mss-deep-learning-challenge_dataset.tar.gz')\n",
        "  \n",
        "# extracting file\n",
        "file.extractall('.')\n",
        "  \n",
        "file.close()"
      ],
      "metadata": {
        "id": "PR8tTQOQWMJB"
      },
      "execution_count": 11,
      "outputs": []
    },
    {
      "cell_type": "code",
      "source": [
        "import os\n",
        "import pandas as pd\n",
        "import tensorflow as tf\n",
        "from tensorflow.keras.preprocessing.image import ImageDataGenerator\n",
        "\n",
        "# set the directory path for the dataset\n",
        "dataset_dir = '/content/mss_dataset'\n",
        "\n",
        "# create a list of all the image paths and their corresponding labels\n",
        "image_paths = []\n",
        "labels = []\n",
        "\n",
        "for category in os.listdir(dataset_dir):\n",
        "    category_dir = os.path.join(dataset_dir, category)\n",
        "    for file_name in os.listdir(category_dir):\n",
        "        file_path = os.path.join(category_dir, file_name)\n",
        "        image_paths.append(file_path)\n",
        "        labels.append(category)\n",
        "\n",
        "# create a Pandas dataframe with the image paths and labels\n",
        "data = {'image_path': image_paths, 'label': labels}\n",
        "df = pd.DataFrame(data)\n",
        "\n",
        "# set the hyperparameters\n",
        "batch_size = 32\n",
        "epochs = 10"
      ],
      "metadata": {
        "id": "rlvhk45RWiqC"
      },
      "execution_count": 13,
      "outputs": []
    },
    {
      "cell_type": "code",
      "source": [
        "print(df)"
      ],
      "metadata": {
        "id": "LdskBPcXXCI1"
      },
      "execution_count": null,
      "outputs": []
    },
    {
      "cell_type": "code",
      "source": [
        "# create an ImageDataGenerator object for data augmentation\n",
        "train_datagen = ImageDataGenerator(\n",
        "    rescale=1./255,\n",
        "    horizontal_flip=True,\n",
        "    rotation_range=20\n",
        ")\n",
        "\n",
        "# create an ImageDataGenerator object for validation data\n",
        "valid_datagen = ImageDataGenerator(rescale=1./255)\n",
        "\n",
        "# split the dataframe into training and validation dataframes\n",
        "train_df = df.sample(frac=0.8, random_state=42)\n",
        "valid_df = df.drop(train_df.index)\n",
        "\n",
        "# create a data generator for the training data\n",
        "train_generator = train_datagen.flow_from_dataframe(\n",
        "    train_df,\n",
        "    x_col='image_path',\n",
        "    y_col='label',\n",
        "    target_size=(224, 224),\n",
        "    batch_size=batch_size,\n",
        "    class_mode='categorical'\n",
        ")\n",
        "\n",
        "# create a data generator for the validation data\n",
        "valid_generator = valid_datagen.flow_from_dataframe(\n",
        "    valid_df,\n",
        "    x_col='image_path',\n",
        "    y_col='label',\n",
        "    target_size=(224, 224),\n",
        "    batch_size=batch_size,\n",
        "    class_mode='categorical'\n",
        ")"
      ],
      "metadata": {
        "colab": {
          "base_uri": "https://localhost:8080/"
        },
        "id": "33pziPT3WniA",
        "outputId": "830ebb71-0d94-4a8b-cbad-f1f511751bad"
      },
      "execution_count": 15,
      "outputs": [
        {
          "output_type": "stream",
          "name": "stdout",
          "text": [
            "Found 10637 validated image filenames belonging to 11 classes.\n",
            "Found 2659 validated image filenames belonging to 11 classes.\n"
          ]
        }
      ]
    },
    {
      "cell_type": "code",
      "source": [
        "# load the VGG16 model\n",
        "base_model = tf.keras.applications.VGG16(\n",
        "    weights='imagenet',\n",
        "    include_top=False,\n",
        "    input_shape=(224, 224, 3)\n",
        ")\n",
        "\n",
        "# freeze the layers in the base model\n",
        "for layer in base_model.layers:\n",
        "    layer.trainable = False\n",
        "\n",
        "# create a new model on top of the base model\n",
        "inputs = tf.keras.Input(shape=(224, 224, 3))\n",
        "x = base_model(inputs, training=False)\n",
        "x = tf.keras.layers.Flatten()(x)\n",
        "x = tf.keras.layers.Dense(11, activation='softmax')(x)\n",
        "model = tf.keras.Model(inputs, x)\n",
        "\n",
        "# compile the model\n",
        "model.compile(\n",
        "    optimizer=tf.keras.optimizers.Adam(),\n",
        "    loss='categorical_crossentropy',\n",
        "    metrics=['accuracy']\n",
        ")"
      ],
      "metadata": {
        "colab": {
          "base_uri": "https://localhost:8080/"
        },
        "id": "zQPMe-VIWpbY",
        "outputId": "79ed750d-b57b-4149-84ed-46e36efe640b"
      },
      "execution_count": 16,
      "outputs": [
        {
          "output_type": "stream",
          "name": "stdout",
          "text": [
            "Downloading data from https://storage.googleapis.com/tensorflow/keras-applications/vgg16/vgg16_weights_tf_dim_ordering_tf_kernels_notop.h5\n",
            "58889256/58889256 [==============================] - 0s 0us/step\n"
          ]
        }
      ]
    },
    {
      "cell_type": "code",
      "source": [
        "# train the model\n",
        "history = model.fit(\n",
        "    train_generator,\n",
        "    epochs=epochs,\n",
        "    validation_data=valid_generator\n",
        ")"
      ],
      "metadata": {
        "colab": {
          "base_uri": "https://localhost:8080/"
        },
        "id": "NKd_vIwDWrdh",
        "outputId": "d1ee59a1-a251-4cb4-b314-348e5c036c91"
      },
      "execution_count": null,
      "outputs": [
        {
          "output_type": "stream",
          "name": "stdout",
          "text": [
            "Epoch 1/10\n",
            "  2/333 [..............................] - ETA: 1:45:49 - loss: 3.1209 - accuracy: 0.1250"
          ]
        }
      ]
    },
    {
      "cell_type": "code",
      "source": [
        "# create a data generator for the test data\n",
        "test_datagen = ImageDataGenerator(rescale=1./255)\n",
        "\n",
        "# create a list of all the image paths and their corresponding labels\n",
        "image_paths = []\n",
        "labels = []\n",
        "\n",
        "for category in os.listdir(dataset_dir):\n",
        "    category_dir = os.path.join(dataset_dir, category)\n",
        "    for file_name in os.listdir(category_dir):\n",
        "        file_path = os.path.join(category_dir, file_name)\n",
        "        image_paths.append(file_path)\n",
        "        labels.append(category)\n",
        "\n",
        "# create a Pandas dataframe with the image paths and labels\n",
        "data = {'image_path': image_paths, 'label': labels}\n",
        "df = pd.DataFrame(data)\n",
        "\n",
        "# create a data generator for the test data\n",
        "test_generator = test_datagen.flow_from_dataframe(\n",
        "    df,\n",
        "    x_col='image_path',\n",
        "    y_col='label',\n",
        "    target_size=(224, 224),\n",
        "    batch_size=batch_size,\n",
        "    class_mode='categorical'\n",
        ")"
      ],
      "metadata": {
        "id": "TsP3tsc7Ws34"
      },
      "execution_count": null,
      "outputs": []
    },
    {
      "cell_type": "code",
      "source": [
        "# evaluate the model on the test data\n",
        "test_loss, test_acc = model.evaluate(test_generator)\n",
        "\n",
        "print('Test accuracy:', test_acc)"
      ],
      "metadata": {
        "id": "Yk12RM4dWw9v"
      },
      "execution_count": null,
      "outputs": []
    }
  ]
}